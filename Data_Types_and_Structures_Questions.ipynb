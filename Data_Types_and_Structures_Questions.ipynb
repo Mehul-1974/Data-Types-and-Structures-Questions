{
  "nbformat": 4,
  "nbformat_minor": 0,
  "metadata": {
    "colab": {
      "provenance": []
    },
    "kernelspec": {
      "name": "python3",
      "display_name": "Python 3"
    },
    "language_info": {
      "name": "python"
    }
  },
  "cells": [
    {
      "cell_type": "markdown",
      "source": [
        "# ***Data Types and Structures Questions***\n"
      ],
      "metadata": {
        "id": "SeW-Es4h1j6Q"
      }
    },
    {
      "cell_type": "markdown",
      "source": [
        "# ***theory***"
      ],
      "metadata": {
        "id": "X8bP1aIJ8wS5"
      }
    },
    {
      "cell_type": "markdown",
      "source": [
        "# What are data structures, and why are they important?\n",
        "* Data structures are ways to organize and store data in a computer so it can be accessed and modified efficiently.\n",
        "* They are important because they help manage large amounts of data efficiently for operations like searching, sorting, insertion, and deletion."
      ],
      "metadata": {
        "id": "VCw4hiff1wrw"
      }
    },
    {
      "cell_type": "markdown",
      "source": [
        "# Difference between mutable and immutable data types with examples\n",
        "Mutable: Can be changed after creation.\n",
        "Example: list, dict, set"
      ],
      "metadata": {
        "id": "wWADOMIh2Cqg"
      }
    },
    {
      "cell_type": "code",
      "source": [
        "l = [1, 2, 3]\n",
        "l[0] = 100\n"
      ],
      "metadata": {
        "id": "vi7u3fPX2I2o"
      },
      "execution_count": 1,
      "outputs": []
    },
    {
      "cell_type": "markdown",
      "source": [
        "Immutable: Cannot be changed after creation.\n",
        "Example: int, str, tuple"
      ],
      "metadata": {
        "id": "Tgb2pg6I2CnA"
      }
    },
    {
      "cell_type": "code",
      "source": [
        "t = (1, 2, 3)\n",
        "t[0] = 100\n"
      ],
      "metadata": {
        "colab": {
          "base_uri": "https://localhost:8080/",
          "height": 165
        },
        "id": "re0nqnK62Sa5",
        "outputId": "49d761ba-a595-4359-ec3f-b508477b4479"
      },
      "execution_count": 2,
      "outputs": [
        {
          "output_type": "error",
          "ename": "TypeError",
          "evalue": "'tuple' object does not support item assignment",
          "traceback": [
            "\u001b[0;31m---------------------------------------------------------------------------\u001b[0m",
            "\u001b[0;31mTypeError\u001b[0m                                 Traceback (most recent call last)",
            "\u001b[0;32m<ipython-input-2-6d78192636cf>\u001b[0m in \u001b[0;36m<cell line: 0>\u001b[0;34m()\u001b[0m\n\u001b[1;32m      1\u001b[0m \u001b[0mt\u001b[0m \u001b[0;34m=\u001b[0m \u001b[0;34m(\u001b[0m\u001b[0;36m1\u001b[0m\u001b[0;34m,\u001b[0m \u001b[0;36m2\u001b[0m\u001b[0;34m,\u001b[0m \u001b[0;36m3\u001b[0m\u001b[0;34m)\u001b[0m\u001b[0;34m\u001b[0m\u001b[0;34m\u001b[0m\u001b[0m\n\u001b[0;32m----> 2\u001b[0;31m \u001b[0mt\u001b[0m\u001b[0;34m[\u001b[0m\u001b[0;36m0\u001b[0m\u001b[0;34m]\u001b[0m \u001b[0;34m=\u001b[0m \u001b[0;36m100\u001b[0m\u001b[0;34m\u001b[0m\u001b[0;34m\u001b[0m\u001b[0m\n\u001b[0m",
            "\u001b[0;31mTypeError\u001b[0m: 'tuple' object does not support item assignment"
          ]
        }
      ]
    },
    {
      "cell_type": "markdown",
      "source": [
        "#  What are the main differences between lists and tuples in Python?\n",
        "| Feature     | List         | Tuple       |\n",
        "| ----------- | ------------ | ----------- |\n",
        "| Syntax      | `[1, 2, 3]`  | `(1, 2, 3)` |\n",
        "| Mutable     | Yes          | No          |\n",
        "| Performance | Slower       | Faster      |\n",
        "| Use Case    | Dynamic data | Fixed data  |\n",
        "\n"
      ],
      "metadata": {
        "id": "zPH8_QqH2CkA"
      }
    },
    {
      "cell_type": "markdown",
      "source": [
        "#  Describe how dictionaries store data\n",
        "Dictionaries store data as key-value pairs using a hash table internally."
      ],
      "metadata": {
        "id": "GM9uDK874GDp"
      }
    },
    {
      "cell_type": "code",
      "source": [
        "student = {\"name\": \"Alice\", \"age\": 20}\n",
        "student\n"
      ],
      "metadata": {
        "colab": {
          "base_uri": "https://localhost:8080/"
        },
        "id": "xY_OCk6P30Og",
        "outputId": "92ba888a-34bb-4766-cda3-c0e26ec4846c"
      },
      "execution_count": 5,
      "outputs": [
        {
          "output_type": "execute_result",
          "data": {
            "text/plain": [
              "{'name': 'Alice', 'age': 20}"
            ]
          },
          "metadata": {},
          "execution_count": 5
        }
      ]
    },
    {
      "cell_type": "markdown",
      "source": [
        "#  Why might you use a set instead of a list in Python?\n",
        "Sets:\n",
        "\n",
        "* Automatically remove duplicates\n",
        "* Offer faster membership tests\n",
        "Use when uniqueness matters"
      ],
      "metadata": {
        "id": "u7o_qVWO4MLh"
      }
    },
    {
      "cell_type": "code",
      "source": [
        "names = set([\"Alice\", \"Bob\", \"Alice\"])\n",
        "names\n"
      ],
      "metadata": {
        "colab": {
          "base_uri": "https://localhost:8080/"
        },
        "id": "IKVOpRhA4JvZ",
        "outputId": "b4a70ab2-e747-49f5-e191-47c94ae8d9b8"
      },
      "execution_count": 6,
      "outputs": [
        {
          "output_type": "execute_result",
          "data": {
            "text/plain": [
              "{'Alice', 'Bob'}"
            ]
          },
          "metadata": {},
          "execution_count": 6
        }
      ]
    },
    {
      "cell_type": "markdown",
      "source": [
        "#  What is a string in Python, and how is it different from a list?\n",
        "* A string is an immutable sequence of characters: \"hello\"\n",
        "* A list is a mutable sequence: ['h', 'e', 'l', 'l', 'o']\n",
        "* You can change list items, but not string characters.\n",
        "\n"
      ],
      "metadata": {
        "id": "55D5EtGf4kOp"
      }
    },
    {
      "cell_type": "markdown",
      "source": [
        "#  How do tuples ensure data integrity in Python?\n",
        "* Tuples are immutable, so once created, their content cannot be modified, making them safe for storing fixed or secure data like database keys.\n"
      ],
      "metadata": {
        "id": "c1XTB66-4kLh"
      }
    },
    {
      "cell_type": "markdown",
      "source": [
        "#  What is a hash table, and how does it relate to dictionaries in Python?\n",
        "* A hash table maps keys to values using a hash function.\n",
        "* Python’s dict uses hash tables internally, enabling fast lookups (O(1))."
      ],
      "metadata": {
        "id": "ypinDhaB4kH5"
      }
    },
    {
      "cell_type": "markdown",
      "source": [
        "#  Can lists contain different data types in Python?\n",
        "Yes. Python lists are heterogeneous"
      ],
      "metadata": {
        "id": "SJ8YRNUO5gIZ"
      }
    },
    {
      "cell_type": "code",
      "source": [
        "mixed = [1, \"hello\", True, 3.14]\n",
        "mixed"
      ],
      "metadata": {
        "colab": {
          "base_uri": "https://localhost:8080/"
        },
        "id": "oMQJbOxV5nuR",
        "outputId": "7c104417-84ab-4f4b-c732-fbf9433825cc"
      },
      "execution_count": 7,
      "outputs": [
        {
          "output_type": "execute_result",
          "data": {
            "text/plain": [
              "[1, 'hello', True, 3.14]"
            ]
          },
          "metadata": {},
          "execution_count": 7
        }
      ]
    },
    {
      "cell_type": "markdown",
      "source": [
        "# Explain why strings are immutable in Python\n",
        "Strings are immutable to:\n",
        "* Improve performance and memory sharing\n",
        "* Ensure data safety when used as keys or shared across functions"
      ],
      "metadata": {
        "id": "nPV8Tjth5gFJ"
      }
    },
    {
      "cell_type": "markdown",
      "source": [
        "#  What advantages do dictionaries offer over lists for certain tasks?\n",
        "* Faster lookups by key\n",
        "* Better organization using named keys"
      ],
      "metadata": {
        "id": "1b7m-mq45gCB"
      }
    },
    {
      "cell_type": "code",
      "source": [
        "user = {\"id\": 1, \"name\": \"Tom\"}\n",
        "user"
      ],
      "metadata": {
        "colab": {
          "base_uri": "https://localhost:8080/"
        },
        "id": "vQ_oQQyA6Z7h",
        "outputId": "7ef6b896-8ca0-4b7f-901a-8d95dc3c8d7f"
      },
      "execution_count": 8,
      "outputs": [
        {
          "output_type": "execute_result",
          "data": {
            "text/plain": [
              "{'id': 1, 'name': 'Tom'}"
            ]
          },
          "metadata": {},
          "execution_count": 8
        }
      ]
    },
    {
      "cell_type": "markdown",
      "source": [
        "# Describe a scenario where using a tuple would be preferable over a list\n",
        "1. Use a tuple when:\n",
        "* Data should not change\n",
        "* It’s used as a dictionary key or in sets\n",
        "Example: GPS coordinates (19.07, 72.87)"
      ],
      "metadata": {
        "id": "qP7nNssN5f_B"
      }
    },
    {
      "cell_type": "markdown",
      "source": [
        "# How do sets handle duplicate values in Python?\n",
        "* Sets automatically remove duplicates\n",
        "* it is unordered and unique"
      ],
      "metadata": {
        "id": "meadDS675f7x"
      }
    },
    {
      "cell_type": "code",
      "source": [
        "set([1, 2, 2, 3])\n"
      ],
      "metadata": {
        "colab": {
          "base_uri": "https://localhost:8080/"
        },
        "id": "UNfPujcZ7Juh",
        "outputId": "6f2b2b2b-7eb5-46c1-e20c-fa7e9157dcbd"
      },
      "execution_count": 9,
      "outputs": [
        {
          "output_type": "execute_result",
          "data": {
            "text/plain": [
              "{1, 2, 3}"
            ]
          },
          "metadata": {},
          "execution_count": 9
        }
      ]
    },
    {
      "cell_type": "markdown",
      "source": [
        "#  How does the in keyword work differently for lists and dictionaries?\n",
        "* For lists: checks if value exists\n",
        "* For dicts: checks if key exists"
      ],
      "metadata": {
        "id": "QjUjN2w05f5B"
      }
    },
    {
      "cell_type": "code",
      "source": [
        "3 in [1, 2, 3]\n",
        "'name' in {'name': 'A'}\n"
      ],
      "metadata": {
        "colab": {
          "base_uri": "https://localhost:8080/"
        },
        "id": "A0YmTQ3J7d-x",
        "outputId": "87b20a6a-6c9a-41d7-c064-6213229d7472"
      },
      "execution_count": 10,
      "outputs": [
        {
          "output_type": "execute_result",
          "data": {
            "text/plain": [
              "True"
            ]
          },
          "metadata": {},
          "execution_count": 10
        }
      ]
    },
    {
      "cell_type": "markdown",
      "source": [
        "#   Can you modify the elements of a tuple? Explain why or why not\n",
        "* No, tuples are immutable.\n",
        "* You cannot change, add, or delete elements after creation."
      ],
      "metadata": {
        "id": "tVK9XPjd5f1y"
      }
    },
    {
      "cell_type": "markdown",
      "source": [
        "#   What is a nested dictionary, and give an example of its use case\n",
        " * A nested dictionary is a dictionary within another dictionary."
      ],
      "metadata": {
        "id": "Sumy3_0x5fyh"
      }
    },
    {
      "cell_type": "code",
      "source": [
        "students = {\n",
        "    \"101\": {\"name\": \"Alice\", \"age\": 20},\n",
        "    \"102\": {\"name\": \"Bob\", \"age\": 22}\n",
        "}\n",
        "students"
      ],
      "metadata": {
        "colab": {
          "base_uri": "https://localhost:8080/"
        },
        "id": "yJ6ldQpJ8D9R",
        "outputId": "782f0f07-5cad-4b64-8712-80c798c710b2"
      },
      "execution_count": 11,
      "outputs": [
        {
          "output_type": "execute_result",
          "data": {
            "text/plain": [
              "{'101': {'name': 'Alice', 'age': 20}, '102': {'name': 'Bob', 'age': 22}}"
            ]
          },
          "metadata": {},
          "execution_count": 11
        }
      ]
    },
    {
      "cell_type": "markdown",
      "source": [
        "#   Describe the time complexity of accessing elements in a dictionary\n",
        "Access time is O(1) on average, due to hash table implementation."
      ],
      "metadata": {
        "id": "7lSWl4ji79L5"
      }
    },
    {
      "cell_type": "markdown",
      "source": [
        "#   In what situations are lists preferred over dictionaries?\n",
        "**Use a list when:**\n",
        "* Order matters\n",
        "* You only need indexed items\n",
        "* No key-value mapping is needed"
      ],
      "metadata": {
        "id": "rWBNVL5s79IZ"
      }
    },
    {
      "cell_type": "markdown",
      "source": [
        "#  Why are dictionaries considered unordered, and how does that affect data retrieval?\n",
        "* Before Python 3.7, dicts were unordered. Now they preserve insertion order, but retrieval is still by key, not position.\n",
        "\n"
      ],
      "metadata": {
        "id": "b9in1b6C79Fb"
      }
    },
    {
      "cell_type": "markdown",
      "source": [
        "#  Explain the difference between a list and a dictionary in terms of data retrieval\n",
        "| Feature      | List         | Dictionary          |\n",
        "| ------------ | ------------ | ------------------- |\n",
        "| Retrieval    | By **index** | By **key**          |\n",
        "| Syntax       | `list[0]`    | `dict['key']`       |\n",
        "| Access Speed | O(1)         | O(1) (average case) |\n",
        "| Use Case     | Ordered data | Named (mapped) data |\n"
      ],
      "metadata": {
        "id": "aY71ZTGm79B5"
      }
    },
    {
      "cell_type": "markdown",
      "source": [
        "# ***program***"
      ],
      "metadata": {
        "id": "uKI6hHYC78-x"
      }
    },
    {
      "cell_type": "code",
      "source": [
        "# 1. Create a string with your name and print it\n",
        "name = \"hi me mehul\"\n",
        "print(name)"
      ],
      "metadata": {
        "colab": {
          "base_uri": "https://localhost:8080/"
        },
        "id": "etT4KSCu8_XJ",
        "outputId": "4a854aa9-3713-4f73-d16a-e5b153a5c3a6"
      },
      "execution_count": 12,
      "outputs": [
        {
          "output_type": "stream",
          "name": "stdout",
          "text": [
            "hi me mehul\n"
          ]
        }
      ]
    },
    {
      "cell_type": "code",
      "source": [
        "# 2. Find the length of the string \"Hello World\"\n",
        "print(len(\"Hello World\"))"
      ],
      "metadata": {
        "colab": {
          "base_uri": "https://localhost:8080/"
        },
        "id": "9GN-oWOV8_Sz",
        "outputId": "167fad07-9b1f-496d-a5ec-31f29fd89cec"
      },
      "execution_count": 13,
      "outputs": [
        {
          "output_type": "stream",
          "name": "stdout",
          "text": [
            "11\n"
          ]
        }
      ]
    },
    {
      "cell_type": "code",
      "source": [
        "# 3. Slice the first 3 characters from \"Python Programming\"\n",
        "print(\"Python Programming\"[:3])"
      ],
      "metadata": {
        "colab": {
          "base_uri": "https://localhost:8080/"
        },
        "id": "d5g02FE_8_PJ",
        "outputId": "324420cc-09ac-47f0-8390-42ea95c641fc"
      },
      "execution_count": 14,
      "outputs": [
        {
          "output_type": "stream",
          "name": "stdout",
          "text": [
            "Pyt\n"
          ]
        }
      ]
    },
    {
      "cell_type": "code",
      "source": [
        "# 4. Convert the string \"hello\" to uppercase\n",
        "print(\"hello\".upper())"
      ],
      "metadata": {
        "colab": {
          "base_uri": "https://localhost:8080/"
        },
        "id": "N5mv_DCS90jK",
        "outputId": "ef88eae2-fab1-4a34-ebf5-c93e4b3c456a"
      },
      "execution_count": 15,
      "outputs": [
        {
          "output_type": "stream",
          "name": "stdout",
          "text": [
            "HELLO\n"
          ]
        }
      ]
    },
    {
      "cell_type": "code",
      "source": [
        "# 5. Replace \"apple\" with \"orange\"\n",
        "print(\"I like apple\".replace(\"apple\", \"orange\"))"
      ],
      "metadata": {
        "colab": {
          "base_uri": "https://localhost:8080/"
        },
        "id": "lBmczxdo8_Lx",
        "outputId": "bf0efa45-16aa-4e49-dede-2e00a735120c"
      },
      "execution_count": 16,
      "outputs": [
        {
          "output_type": "stream",
          "name": "stdout",
          "text": [
            "I like orange\n"
          ]
        }
      ]
    },
    {
      "cell_type": "code",
      "source": [
        "# 6. Create a list with numbers 1 to 5 and print it\n",
        "numbers = [1, 2, 3, 4, 5]\n",
        "print(numbers)"
      ],
      "metadata": {
        "colab": {
          "base_uri": "https://localhost:8080/"
        },
        "id": "orLcJoRI8_Fh",
        "outputId": "d3fc2882-7e54-4e08-fe4d-bb0719f9d6e4"
      },
      "execution_count": 17,
      "outputs": [
        {
          "output_type": "stream",
          "name": "stdout",
          "text": [
            "[1, 2, 3, 4, 5]\n"
          ]
        }
      ]
    },
    {
      "cell_type": "code",
      "source": [
        "# 7. Append 10 to the list [1, 2, 3, 4]\n",
        "lst = [1, 2, 3, 4]\n",
        "lst.append(10)\n",
        "print(lst)"
      ],
      "metadata": {
        "colab": {
          "base_uri": "https://localhost:8080/"
        },
        "id": "esXYuTd6988K",
        "outputId": "655a64b9-6d78-46ff-c73a-31641cb94d03"
      },
      "execution_count": 18,
      "outputs": [
        {
          "output_type": "stream",
          "name": "stdout",
          "text": [
            "[1, 2, 3, 4, 10]\n"
          ]
        }
      ]
    },
    {
      "cell_type": "code",
      "source": [
        "# 8. Remove 3 from the list [1, 2, 3, 4, 5]\n",
        "lst2 = [1, 2, 3, 4, 5]\n",
        "lst2.remove(3)\n",
        "print(lst2)\n"
      ],
      "metadata": {
        "colab": {
          "base_uri": "https://localhost:8080/"
        },
        "id": "HDvNIC909-mp",
        "outputId": "d4404f03-0ab6-4e69-8000-3f922f3d33df"
      },
      "execution_count": 19,
      "outputs": [
        {
          "output_type": "stream",
          "name": "stdout",
          "text": [
            "[1, 2, 4, 5]\n"
          ]
        }
      ]
    },
    {
      "cell_type": "code",
      "source": [
        "# 9. Access the second element in ['a', 'b', 'c', 'd']\n",
        "chars = ['a', 'b', 'c', 'd']\n",
        "print(chars[1])"
      ],
      "metadata": {
        "colab": {
          "base_uri": "https://localhost:8080/"
        },
        "id": "SeRUVzot-ArJ",
        "outputId": "5144da14-18e0-471f-d14b-16381e798f08"
      },
      "execution_count": 20,
      "outputs": [
        {
          "output_type": "stream",
          "name": "stdout",
          "text": [
            "b\n"
          ]
        }
      ]
    },
    {
      "cell_type": "code",
      "source": [
        "# 10. Reverse the list [10, 20, 30, 40, 50]\n",
        "rev_list = [10, 20, 30, 40, 50]\n",
        "rev_list.reverse()\n",
        "print(rev_list)"
      ],
      "metadata": {
        "colab": {
          "base_uri": "https://localhost:8080/"
        },
        "id": "z2qT04NE-Gpq",
        "outputId": "730b2951-627f-4766-ab7a-804e3fbb85dc"
      },
      "execution_count": 21,
      "outputs": [
        {
          "output_type": "stream",
          "name": "stdout",
          "text": [
            "[50, 40, 30, 20, 10]\n"
          ]
        }
      ]
    },
    {
      "cell_type": "code",
      "source": [
        "# 11. Create a tuple with 100, 200, 300 and print it\n",
        "tpl = (100, 200, 300)\n",
        "print(tpl)\n"
      ],
      "metadata": {
        "colab": {
          "base_uri": "https://localhost:8080/"
        },
        "id": "Oe2bWD2L-Khy",
        "outputId": "266f567e-7e4c-4e19-cb40-a03c00d0eaf9"
      },
      "execution_count": 22,
      "outputs": [
        {
          "output_type": "stream",
          "name": "stdout",
          "text": [
            "(100, 200, 300)\n"
          ]
        }
      ]
    },
    {
      "cell_type": "code",
      "source": [
        "# 12. Access second-to-last element of ('red', 'green', 'blue', 'yellow')\n",
        "colors = ('red', 'green', 'blue', 'yellow')\n",
        "print(colors[-2])"
      ],
      "metadata": {
        "colab": {
          "base_uri": "https://localhost:8080/"
        },
        "id": "h2VYtcaa-Nka",
        "outputId": "70e0db88-ddb7-4f9c-fa3e-2756fd775c6f"
      },
      "execution_count": 23,
      "outputs": [
        {
          "output_type": "stream",
          "name": "stdout",
          "text": [
            "blue\n"
          ]
        }
      ]
    },
    {
      "cell_type": "code",
      "source": [
        "# 13. Find min number in (10, 20, 5, 15)\n",
        "print(min((10, 20, 5, 15)))"
      ],
      "metadata": {
        "colab": {
          "base_uri": "https://localhost:8080/"
        },
        "id": "lDvlINan-P-J",
        "outputId": "49ba40c2-b754-41f5-a330-13dd9f5b156f"
      },
      "execution_count": 24,
      "outputs": [
        {
          "output_type": "stream",
          "name": "stdout",
          "text": [
            "5\n"
          ]
        }
      ]
    },
    {
      "cell_type": "code",
      "source": [
        "# 14. Find index of \"cat\" in ('dog', 'cat', 'rabbit')\n",
        "animals = ('dog', 'cat', 'rabbit')\n",
        "print(animals.index(\"cat\"))"
      ],
      "metadata": {
        "colab": {
          "base_uri": "https://localhost:8080/"
        },
        "id": "uMyjuubE-SXC",
        "outputId": "c9502d7a-d7a1-4daf-805b-33c8f5ba934a"
      },
      "execution_count": 25,
      "outputs": [
        {
          "output_type": "stream",
          "name": "stdout",
          "text": [
            "1\n"
          ]
        }
      ]
    },
    {
      "cell_type": "code",
      "source": [
        "# 15. Tuple with fruits, check if \"kiwi\" is in it\n",
        "fruits = ('apple', 'banana', 'mango')\n",
        "print(\"kiwi\" in fruits)"
      ],
      "metadata": {
        "colab": {
          "base_uri": "https://localhost:8080/"
        },
        "id": "psiq62GG-Ugq",
        "outputId": "af9ae9e6-dbe2-474e-a6f6-f05d35964e11"
      },
      "execution_count": 26,
      "outputs": [
        {
          "output_type": "stream",
          "name": "stdout",
          "text": [
            "False\n"
          ]
        }
      ]
    },
    {
      "cell_type": "code",
      "source": [
        "# 16. Create a set with 'a', 'b', 'c' and print it\n",
        "s = {'a', 'b', 'c'}\n",
        "print(s)"
      ],
      "metadata": {
        "colab": {
          "base_uri": "https://localhost:8080/"
        },
        "id": "0k5VW0ld-WhR",
        "outputId": "d314a3cb-5254-4078-c629-f7a39b4d52c3"
      },
      "execution_count": 27,
      "outputs": [
        {
          "output_type": "stream",
          "name": "stdout",
          "text": [
            "{'c', 'a', 'b'}\n"
          ]
        }
      ]
    },
    {
      "cell_type": "code",
      "source": [
        "# 17. Clear all elements from {1, 2, 3, 4, 5}\n",
        "s2 = {1, 2, 3, 4, 5}\n",
        "s2.clear()\n",
        "print(s2)"
      ],
      "metadata": {
        "colab": {
          "base_uri": "https://localhost:8080/"
        },
        "id": "HElG5jlJ-Zba",
        "outputId": "b99e8b1c-5dc3-43d4-ad90-fa80174f0ee7"
      },
      "execution_count": 28,
      "outputs": [
        {
          "output_type": "stream",
          "name": "stdout",
          "text": [
            "set()\n"
          ]
        }
      ]
    },
    {
      "cell_type": "code",
      "source": [
        "# 18. Remove 4 from {1, 2, 3, 4}\n",
        "s3 = {1, 2, 3, 4}\n",
        "s3.remove(4)\n",
        "print(s3)\n"
      ],
      "metadata": {
        "colab": {
          "base_uri": "https://localhost:8080/"
        },
        "id": "4T-D1clR-bLD",
        "outputId": "14903ad7-65ba-460e-81b4-4cf0b472a42e"
      },
      "execution_count": 29,
      "outputs": [
        {
          "output_type": "stream",
          "name": "stdout",
          "text": [
            "{1, 2, 3}\n"
          ]
        }
      ]
    },
    {
      "cell_type": "code",
      "source": [
        "# 19. Union of {1, 2, 3} and {3, 4, 5}\n",
        "print({1, 2, 3}.union({3, 4, 5}))"
      ],
      "metadata": {
        "colab": {
          "base_uri": "https://localhost:8080/"
        },
        "id": "4gO2Inah-c1K",
        "outputId": "5682519b-a6fb-42f2-fce9-89727f506a10"
      },
      "execution_count": 30,
      "outputs": [
        {
          "output_type": "stream",
          "name": "stdout",
          "text": [
            "{1, 2, 3, 4, 5}\n"
          ]
        }
      ]
    },
    {
      "cell_type": "code",
      "source": [
        "# 20. Intersection of {1, 2, 3} and {2, 3, 4}\n",
        "print({1, 2, 3}.intersection({2, 3, 4}))"
      ],
      "metadata": {
        "colab": {
          "base_uri": "https://localhost:8080/"
        },
        "id": "D0JHmH0u-ejq",
        "outputId": "13d3c315-a68f-40e5-cb8a-4bc8a1a0243f"
      },
      "execution_count": 31,
      "outputs": [
        {
          "output_type": "stream",
          "name": "stdout",
          "text": [
            "{2, 3}\n"
          ]
        }
      ]
    },
    {
      "cell_type": "code",
      "source": [
        "# 21. Create dictionary with \"name\", \"age\", \"city\"\n",
        "person = {\"name\": \"John\", \"age\": 30, \"city\": \"New York\"}\n",
        "print(person)"
      ],
      "metadata": {
        "colab": {
          "base_uri": "https://localhost:8080/"
        },
        "id": "NF0Gb1cQ-gWy",
        "outputId": "cca54485-3a2c-4129-b07d-95b24231b1ff"
      },
      "execution_count": 32,
      "outputs": [
        {
          "output_type": "stream",
          "name": "stdout",
          "text": [
            "{'name': 'John', 'age': 30, 'city': 'New York'}\n"
          ]
        }
      ]
    },
    {
      "cell_type": "code",
      "source": [
        "# 22. Add \"country\": \"USA\" to {'name': 'John', 'age': 25}\n",
        "person2 = {'name': 'John', 'age': 25}\n",
        "person2[\"country\"] = \"USA\"\n",
        "print(person2)\n"
      ],
      "metadata": {
        "colab": {
          "base_uri": "https://localhost:8080/"
        },
        "id": "fQiYEvYW-loy",
        "outputId": "59b98787-3254-498e-cd55-e39994648d43"
      },
      "execution_count": 33,
      "outputs": [
        {
          "output_type": "stream",
          "name": "stdout",
          "text": [
            "{'name': 'John', 'age': 25, 'country': 'USA'}\n"
          ]
        }
      ]
    },
    {
      "cell_type": "code",
      "source": [
        "# 23. Access value of \"name\" in {'name': 'Alice', 'age': 30}\n",
        "info = {'name': 'Alice', 'age': 30}\n",
        "print(info[\"name\"])"
      ],
      "metadata": {
        "colab": {
          "base_uri": "https://localhost:8080/"
        },
        "id": "hVAxUfuA-nhK",
        "outputId": "1ee67437-ab02-42b8-d185-93408c65f817"
      },
      "execution_count": 34,
      "outputs": [
        {
          "output_type": "stream",
          "name": "stdout",
          "text": [
            "Alice\n"
          ]
        }
      ]
    },
    {
      "cell_type": "code",
      "source": [
        "# 24. Remove \"age\" from {'name': 'Bob', 'age': 22, 'city': 'New York'}\n",
        "student = {'name': 'Bob', 'age': 22, 'city': 'New York'}\n",
        "del student[\"age\"]\n",
        "print(student)"
      ],
      "metadata": {
        "colab": {
          "base_uri": "https://localhost:8080/"
        },
        "id": "QpuIR0QL-qVB",
        "outputId": "f6367537-0a1b-414b-b0a9-4cd45552d229"
      },
      "execution_count": 35,
      "outputs": [
        {
          "output_type": "stream",
          "name": "stdout",
          "text": [
            "{'name': 'Bob', 'city': 'New York'}\n"
          ]
        }
      ]
    },
    {
      "cell_type": "code",
      "source": [
        "# 25. Check if \"city\" exists in {'name': 'Alice', 'city': 'Paris'}\n",
        "d = {'name': 'Alice', 'city': 'Paris'}\n",
        "print(\"city\" in d)"
      ],
      "metadata": {
        "colab": {
          "base_uri": "https://localhost:8080/"
        },
        "id": "fyxIwvHH-r8y",
        "outputId": "28a95397-46c1-4726-dfa8-f2c483ed2d8d"
      },
      "execution_count": 36,
      "outputs": [
        {
          "output_type": "stream",
          "name": "stdout",
          "text": [
            "True\n"
          ]
        }
      ]
    },
    {
      "cell_type": "code",
      "source": [
        "# 26. Create and print list, tuple, and dictionary\n",
        "lst = [1, 2, 3]\n",
        "tpl = (4, 5, 6)\n",
        "dct = {\"a\": 1, \"b\": 2}\n",
        "print(lst, tpl, dct)"
      ],
      "metadata": {
        "colab": {
          "base_uri": "https://localhost:8080/"
        },
        "id": "-Za4R4iO-ufh",
        "outputId": "ed852431-b254-4562-d9fc-b24ca5aee848"
      },
      "execution_count": 37,
      "outputs": [
        {
          "output_type": "stream",
          "name": "stdout",
          "text": [
            "[1, 2, 3] (4, 5, 6) {'a': 1, 'b': 2}\n"
          ]
        }
      ]
    },
    {
      "cell_type": "code",
      "source": [
        "# 27. List of 5 random numbers between 1-100, sorted\n",
        "import random\n",
        "rand_list = random.sample(range(1, 101), 5)\n",
        "rand_list.sort()\n",
        "print(rand_list)"
      ],
      "metadata": {
        "colab": {
          "base_uri": "https://localhost:8080/"
        },
        "id": "AENPCE2t-yiy",
        "outputId": "44095ed9-3e3f-4e7d-f7b9-b27da0bfb32e"
      },
      "execution_count": 38,
      "outputs": [
        {
          "output_type": "stream",
          "name": "stdout",
          "text": [
            "[1, 38, 46, 61, 82]\n"
          ]
        }
      ]
    },
    {
      "cell_type": "code",
      "source": [
        "# 28. List with strings, print element at index 3\n",
        "str_list = [\"apple\", \"banana\", \"cherry\", \"date\", \"elderberry\"]\n",
        "print(str_list[3])"
      ],
      "metadata": {
        "colab": {
          "base_uri": "https://localhost:8080/"
        },
        "id": "rPFfbUmB-0Ua",
        "outputId": "6d2f61f2-260e-4dab-f489-f19f5720feb0"
      },
      "execution_count": 39,
      "outputs": [
        {
          "output_type": "stream",
          "name": "stdout",
          "text": [
            "date\n"
          ]
        }
      ]
    },
    {
      "cell_type": "code",
      "source": [
        "# 29. Combine two dictionaries and print\n",
        "d1 = {\"x\": 1, \"y\": 2}\n",
        "d2 = {\"y\": 3, \"z\": 4}\n",
        "combined = {**d1, **d2}\n",
        "print(combined)"
      ],
      "metadata": {
        "colab": {
          "base_uri": "https://localhost:8080/"
        },
        "id": "FP80O94x-2Li",
        "outputId": "52b81fcb-d347-4718-aad2-0fe5292782a3"
      },
      "execution_count": 40,
      "outputs": [
        {
          "output_type": "stream",
          "name": "stdout",
          "text": [
            "{'x': 1, 'y': 3, 'z': 4}\n"
          ]
        }
      ]
    },
    {
      "cell_type": "code",
      "source": [
        "# 30. Convert a list of strings into a set\n",
        "strs = [\"a\", \"b\", \"a\", \"c\"]\n",
        "unique_set = set(strs)\n",
        "print(unique_set)"
      ],
      "metadata": {
        "colab": {
          "base_uri": "https://localhost:8080/"
        },
        "id": "oiDhpRZv-4PC",
        "outputId": "f03b0d6b-ab6d-4e5e-bd8f-8f0557192ba9"
      },
      "execution_count": 41,
      "outputs": [
        {
          "output_type": "stream",
          "name": "stdout",
          "text": [
            "{'c', 'a', 'b'}\n"
          ]
        }
      ]
    }
  ]
}